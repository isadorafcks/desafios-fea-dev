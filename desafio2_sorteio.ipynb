{
 "cells": [
  {
   "cell_type": "markdown",
   "metadata": {},
   "source": [
    "# sorteio apresentação devbixos"
   ]
  },
  {
   "cell_type": "code",
   "execution_count": null,
   "metadata": {
    "collapsed": true
   },
   "outputs": [],
   "source": [
    "import random\n",
    "devbixos = ['lorenzo','isadora','cinthya','jonathan','mariaraquel','carlos']\n",
    "random.shuffle(devbixos)\n",
    "sorteio=random.sample (devbixos, 2)\n",
    "mylist= ''.join(sorteio)\n",
    "\n",
    "\n",
    "def obter_caracteres():\n",
    "    mylist=[]\n",
    "\n",
    "    for i in range(ord(\"a\"), ord(\"z\") + 1):\n",
    "        caractere=chr(i)\n",
    "        mylist.append(caractere)\n",
    "    return mylist\n",
    "     \n",
    "\n",
    "def key(chave):\n",
    "    if 0< chave<26:\n",
    "         return True\n",
    "    return False\n",
    "\n",
    "def cript(texto,chave=3):\n",
    "        mylist=obter_caracteres()\n",
    "        novo_texto=\"\"\n",
    "        \n",
    "        for caractere in texto:\n",
    "            posicao=mylist.index(caractere)\n",
    "            posicao +=chave\n",
    "            \n",
    "            novo_caractere=mylist[posicao % len(mylist)]\n",
    "            novo_texto += novo_caractere\n",
    "            \n",
    "        return novo_texto\n",
    "    \n",
    "prox_reuniao = input(\"qual é o dia da semana da próxima reunião? \")\n",
    "print(f'Na {prox_reuniao} a dupla será:{( cript((mylist),3))}, decodetifique para descobrir...')"
   ]
  }
 ],
 "metadata": {
  "kernelspec": {
   "display_name": "Python 3",
   "language": "python",
   "name": "python3"
  },
  "language_info": {
   "codemirror_mode": {
    "name": "ipython",
    "version": 3
   },
   "file_extension": ".py",
   "mimetype": "text/x-python",
   "name": "python",
   "nbconvert_exporter": "python",
   "pygments_lexer": "ipython3",
   "version": "3.6.3"
  }
 },
 "nbformat": 4,
 "nbformat_minor": 2
}
